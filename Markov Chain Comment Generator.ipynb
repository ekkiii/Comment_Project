{
 "cells": [
  {
   "cell_type": "code",
   "execution_count": 1,
   "metadata": {
    "collapsed": false
   },
   "outputs": [
   ],
   "source": [
    "import numpy as np\n",
    "import pandas as pd\n",
    "import random\n",
    "import warnings\n",
    "warnings.filterwarnings('ignore')"
   ]
  },
  {
   "cell_type": "code",
   "execution_count": 2,
   "metadata": {
    "collapsed": false
   },
   "outputs": [
   ],
   "source": [
    "corpus = open('data/corpus.txt').read().split() #build a corpus from previous years of comments."
   ]
  },
  {
   "cell_type": "code",
   "execution_count": 3,
   "metadata": {
    "collapsed": false,
    "scrolled": true
   },
   "outputs": [
   ],
   "source": [
    "vocab = {}\n",
    "for i in range(len(corpus)-3):\n",
    "    vocab.setdefault(corpus[i]+' '+corpus[i+1], []).append(corpus[i+2]) #every adjacent pair of word is a key, and \n",
    "    # whose value is a list of all the possible subsequent words occurring in the corpus."
   ]
  },
  {
   "cell_type": "code",
   "execution_count": 4,
   "metadata": {
    "collapsed": false,
    "scrolled": true
   },
   "outputs": [
   ],
   "source": [
    "def comments_generator():\n",
    "    '''\n",
    "    Generate newish comments using corpus of comments based on the Markov chain\n",
    "    (basically a conditional probability distribution of each word).\n",
    "    '''\n",
    "    current = 'This semester' #This is the beginning seed since all comments start with the word \"This\"\n",
    "    subsequent = random.choice(vocab[current]) #randomly select a pair of words from the list of possible pairs.\n",
    "    # The more frequent a certain pair occur in the corpus, the more likely it will be chosen.\n",
    "    comment = current + ' ' + subsequent + ' '\n",
    "    \n",
    "    while not (current == 'of the' and subsequent == 'year.'): #This is the end indication since all comments end with the string \"of the year.\"\n",
    "        current = comment.split()[-2]+' '+comment.split()[-1] #update each step, generate new pairs of words until it reaches the end of the comment.\n",
    "        subsequent = random.choice(vocab[current])\n",
    "        comment += subsequent + ' '\n",
    "    \n",
    "    \n",
    "    return comment"
   ]
  },
  {
   "cell_type": "code",
   "execution_count": 7,
   "metadata": {
    "collapsed": false
   },
   "outputs": [
   ],
   "source": [
    "#fout = open('data/Markov_comment.txt', 'w')\n",
    "#for i in range(100):\n",
    "  #  fout.write(comments_generator()+'\\n\\n')\n",
    "#fout.close()\n",
    "\n",
    "# "
   ]
  },
  {
   "cell_type": "code",
   "execution_count": 6,
   "metadata": {
    "collapsed": false,
    "scrolled": true
   },
   "outputs": [
   ],
   "source": [
    "# source: https://stackoverflow.com/questions/5306729/how-do-markov-chain-chatbots-work"
   ]
  },
  {
   "cell_type": "code",
   "execution_count": 0,
   "metadata": {
    "collapsed": false
   },
   "outputs": [
   ],
   "source": [
   ]
  }
 ],
 "metadata": {
  "kernelspec": {
   "display_name": "Python 3 (system-wide)",
   "language": "python",
   "metadata": {
    "cocalc": {
     "description": "Python 3 programming language",
     "priority": 100,
     "url": "https://www.python.org/"
    }
   },
   "name": "python3"
  },
  "language_info": {
   "codemirror_mode": {
    "name": "ipython",
    "version": 3
   },
   "file_extension": ".py",
   "mimetype": "text/x-python",
   "name": "python",
   "nbconvert_exporter": "python",
   "pygments_lexer": "ipython3",
   "version": "3.6.9"
  }
 },
 "nbformat": 4,
 "nbformat_minor": 0
}